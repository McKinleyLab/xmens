{
 "cells": [
  {
   "cell_type": "code",
   "execution_count": null,
   "id": "34645890-50bb-4d57-8d58-5e7f35857cfe",
   "metadata": {},
   "outputs": [],
   "source": [
    "import pandas as pd\n",
    "import os"
   ]
  },
  {
   "cell_type": "code",
   "execution_count": null,
   "id": "0bdb2185-7e89-4f0a-83e7-d47c4ccb30cf",
   "metadata": {},
   "outputs": [],
   "source": [
    "orthology = pd.read_csv('./HOM_MouseHumanSequence.txt', sep = '\\t')"
   ]
  },
  {
   "cell_type": "code",
   "execution_count": null,
   "id": "f50e6578-2ff1-4c1f-981f-c08b4545cbf7",
   "metadata": {},
   "outputs": [],
   "source": [
    "# define some labels\n",
    "mouse_label = \"mouse, laboratory\"\n",
    "human_label = \"human\"\n",
    "species_col = \"Common Organism Name\"\n",
    "mouse_symbol_col = \"mouse_symbol\"\n",
    "human_symbol_col = \"human_symbol\""
   ]
  },
  {
   "cell_type": "code",
   "execution_count": null,
   "id": "57555c32-ed41-451e-89e9-13f0bb3a7b72",
   "metadata": {},
   "outputs": [],
   "source": [
    "# keep only mouse/human entries\n",
    "orthology = orthology[orthology[species_col].isin([mouse_label, human_label])]\n",
    "\n",
    "# keep groups with exactly 1 mouse + 1 human\n",
    "g = orthology.groupby(\"DB Class Key\")\n",
    "strict = g.filter(lambda x: len(x)==2 and set(x[species_col])=={mouse_label, human_label})\n",
    "\n",
    "# pivot so each group is one row\n",
    "wide = strict.pivot(index=\"DB Class Key\", columns=species_col)\n",
    "\n",
    "def col(name, sp):\n",
    "    return wide[(name, sp)].astype(str)\n",
    "\n",
    "pairs = pd.DataFrame({\n",
    "    mouse_symbol_col: col(\"Symbol\", mouse_label),\n",
    "    human_symbol_col: col(\"Symbol\", human_label),\n",
    "    \"mouse_mgi\":    col(\"Mouse MGI ID\", mouse_label),\n",
    "    \"human_hgnc\":   col(\"HGNC ID\", human_label),\n",
    "    \"mouse_entrez\": col(\"EntrezGene ID\", mouse_label),\n",
    "    \"human_entrez\": col(\"EntrezGene ID\", human_label),\n",
    "})\n",
    "\n",
    "print(\"Strict mouse-human 1:1 groups:\", len(pairs))\n",
    "print(pairs.head(10))"
   ]
  },
  {
   "cell_type": "code",
   "execution_count": null,
   "id": "a954d669-9dd6-4690-8041-909908bccc5d",
   "metadata": {},
   "outputs": [],
   "source": [
    "# count species composition per homology group\n",
    "counts = orthology.groupby([\"DB Class Key\", species_col]).size().unstack(fill_value=0)\n",
    "\n",
    "# keys where both species appear exactly once\n",
    "one2one_keys = counts[\n",
    "    (counts[mouse_label] == 1) & (counts[human_label] == 1)\n",
    "].index\n",
    "\n",
    "# check counts directly\n",
    "bad_keys = counts.loc[one2one_keys][\n",
    "    (counts[mouse_label] != 1) | (counts[human_label] != 1)\n",
    "]\n",
    "print(f\"non-1:1 keys sneaking in: {len(bad_keys)}\")\n",
    "\n",
    "# check uniqueness of mapping\n",
    "mouse_dupes = pairs[mouse_symbol_col][pairs[mouse_symbol_col].duplicated()]\n",
    "human_dupes = pairs[human_symbol_col][pairs[human_symbol_col].duplicated()]\n",
    "\n",
    "print(f\"duplicate mouse symbols: {len(mouse_dupes)}\")\n",
    "print(f\"duplicate human symbols: {len(human_dupes)}\")"
   ]
  },
  {
   "cell_type": "code",
   "execution_count": null,
   "id": "da323b4a-a87a-4b10-978d-15cddafbf697",
   "metadata": {},
   "outputs": [],
   "source": [
    "# count how often each mouse / human gene shows up\n",
    "m_counts = pairs[mouse_symbol_col].value_counts()\n",
    "h_counts = pairs[human_symbol_col].value_counts()\n",
    "\n",
    "# keep pairs where both symbols are unique\n",
    "pairs_1to1 = pairs[\n",
    "    pairs[mouse_symbol_col].map(m_counts).eq(1) &\n",
    "    pairs[human_symbol_col].map(h_counts).eq(1)\n",
    "].reset_index(drop=True)\n",
    "\n",
    "print(\"After enforcing global uniqueness,\")\n",
    "print(\"mouse symbols:\", pairs_1to1[mouse_symbol_col].nunique())\n",
    "print(\"human symbols:\", pairs_1to1[human_symbol_col].nunique())\n",
    "print(\"rows:\", len(pairs_1to1))"
   ]
  },
  {
   "cell_type": "code",
   "execution_count": null,
   "id": "fef37540-dc57-4c6c-b0f5-0bb4d4d46bce",
   "metadata": {},
   "outputs": [],
   "source": [
    "pairs_1to1"
   ]
  },
  {
   "cell_type": "code",
   "execution_count": null,
   "id": "28f58f5e-64e5-4c5a-b938-9f9b503190bc",
   "metadata": {},
   "outputs": [],
   "source": [
    "# write to .csv\n",
    "pairs_1to1.to_csv('./jax_orthology.csv', index = False)"
   ]
  },
  {
   "cell_type": "code",
   "execution_count": null,
   "id": "5a1e2107-d07f-45f8-99f5-8463baba17bf",
   "metadata": {},
   "outputs": [],
   "source": [
    "def load_orthology(path, mouse_symbol_col = \"mouse_symbol\", human_symbol_col = \"human_symbol\"):\n",
    "    \"\"\"\n",
    "    Load pruned JAX orthology file and return two dicts:\n",
    "    - mouse2human: mouse_symbol -> human_symbol\n",
    "    - human2mouse: human_symbol -> mouse_symbol\n",
    "    \"\"\"\n",
    "    orthology = pd.read_csv(path, dtype=str)\n",
    "\n",
    "    # Defensive: drop rows with missing values\n",
    "    orthology = orthology.dropna(subset=[mouse_symbol_col,human_symbol_col])\n",
    "\n",
    "    mouse2human = dict(zip(orthology[mouse_symbol_col], orthology[human_symbol_col]))\n",
    "    human2mouse = dict(zip(orthology[human_symbol_col], orthology[mouse_symbol_col]))\n",
    "\n",
    "    return mouse2human, human2mouse"
   ]
  },
  {
   "cell_type": "code",
   "execution_count": null,
   "id": "04ddfddc-0391-427d-9360-cabbedf79d1a",
   "metadata": {},
   "outputs": [],
   "source": [
    "# path where orthology is tored\n",
    "base_path = \".\"\n",
    "orth_file = \"jax_orthology.csv\"\n",
    "orth_path = os.path.join(base_path, orth_file)\n",
    "\n",
    "# example usage\n",
    "mouse2human, human2mouse = load_orthology(orth_path)\n",
    "\n",
    "mm_gene = \"Foxo1\"\n",
    "hs_gene = \"FOXO1\"\n",
    "\n",
    "print(f\"{mm_gene} is\", mouse2human.get(mm_gene))\n",
    "print(f\"{hs_gene} is\", human2mouse.get(hs_gene))"
   ]
  }
 ],
 "metadata": {
  "kernelspec": {
   "display_name": "Python [conda env:.conda-cuda11.8_env]",
   "language": "python",
   "name": "conda-env-.conda-cuda11.8_env-py"
  },
  "language_info": {
   "codemirror_mode": {
    "name": "ipython",
    "version": 3
   },
   "file_extension": ".py",
   "mimetype": "text/x-python",
   "name": "python",
   "nbconvert_exporter": "python",
   "pygments_lexer": "ipython3",
   "version": "3.10.13"
  }
 },
 "nbformat": 4,
 "nbformat_minor": 5
}
