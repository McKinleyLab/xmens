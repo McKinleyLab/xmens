{
 "cells": [
  {
   "cell_type": "code",
   "execution_count": null,
   "id": "51f1f36b-4ed6-4e2b-ac13-230ee1f4a2a1",
   "metadata": {},
   "outputs": [],
   "source": [
    "import pandas as pd\n",
    "from scipy.stats import hypergeom"
   ]
  },
  {
   "cell_type": "code",
   "execution_count": null,
   "id": "b0819546-5c94-4905-b02e-50d6d21d1a3a",
   "metadata": {},
   "outputs": [],
   "source": [
    "pt_orthologs = pd.read_csv('./pseudotime_orthologs.csv')"
   ]
  },
  {
   "cell_type": "code",
   "execution_count": null,
   "id": "ebd4edc7-e878-499a-be5f-854a19c2acd8",
   "metadata": {},
   "outputs": [],
   "source": [
    "pt_orthologs"
   ]
  },
  {
   "cell_type": "code",
   "execution_count": null,
   "id": "7869e895-c2ca-4798-8261-7cdab9a66d64",
   "metadata": {},
   "outputs": [],
   "source": [
    "human_top_genes = set(pt_orthologs[pt_orthologs[\"top_10_pct_mi\"].isin([\"human\",\"both\"]) & pt_orthologs[\"ortholog_univ\"]]['human_gene'])\n",
    "mouse_top_genes = set(pt_orthologs[pt_orthologs[\"top_10_pct_mi\"].isin([\"mouse\",\"both\"]) & pt_orthologs[\"ortholog_univ\"]]['human_gene'])\n",
    "overlap = human_top_genes & mouse_top_genes"
   ]
  },
  {
   "cell_type": "code",
   "execution_count": null,
   "id": "68bbf25e-ae55-4bbf-ab89-32522bf4b2fd",
   "metadata": {},
   "outputs": [],
   "source": [
    "N = sum(pt_orthologs['ortholog_univ']) # number of 1-1 orthologs\n",
    "print(f\"ortholog universe: {N}\\n\")\n",
    "\n",
    "n = len(human_top_genes) # number of significant human genes\n",
    "print(f\"number of human top genes: {n}\")\n",
    "print(f\"      exclusive to humans: {n - k}\\n\")\n",
    "\n",
    "\n",
    "K = len(mouse_top_genes) # number of significant mouse genes\n",
    "print(f\"number of mouse top genes: {K}\")\n",
    "print(f\"        exclusive to mice: {K - k}\\n\")\n",
    "\n",
    "k = len(overlap) # overlapping genes\n",
    "print(f\"size of overlap: {k}\")\n",
    "\n",
    "print(f\"percent overlap in human genes: {k / n * 100:.1f}%\")\n",
    "\n",
    "# do a hypergeometric test\n",
    "pval = hypergeom.sf(k - 1, N, n, K)   # sf = 1 – cdf(k-1)\n",
    "\n",
    "print()\n",
    "print(f\"hypergeometric p-value: {pval:.3e}\")\n",
    "print(f\"mean overlap of null: {K * n / N:.2f}, or ~{round(K * n / N)} genes\")"
   ]
  },
  {
   "cell_type": "code",
   "execution_count": null,
   "id": "e912d03f-7a55-49d8-a439-1dfaf49fcd71",
   "metadata": {},
   "outputs": [],
   "source": [
    "n_top_genes = 50\n",
    "\n",
    "# get top mouse genes\n",
    "top_mouse_df = (\n",
    "    pt_orthologs\n",
    "    .sort_values(\"mouse_mi_rank\", ascending=True, na_position=\"last\")\n",
    "    .head(n_top_genes)\n",
    ")\n",
    "top_mouse = top_mouse_df[\"mouse_gene\"].tolist()\n",
    "\n",
    "# get overlap subset (use human symbols)\n",
    "top_mouse_overlap_df = top_mouse_df[top_mouse_df[\"human_gene\"].isin(overlap)]\n",
    "top_mouse_overlap = top_mouse_overlap_df[\"mouse_gene\"].tolist()\n",
    "\n",
    "# get top human genes\n",
    "top_human_df = (\n",
    "    pt_orthologs\n",
    "    .sort_values(\"human_mi_rank\", ascending=True, na_position=\"last\")\n",
    "    .head(n_top_genes)\n",
    ")\n",
    "top_human = top_human_df[\"human_gene\"].tolist()\n",
    "\n",
    "# get overlap subset (use human symbols)\n",
    "top_human_overlap_df = top_human_df[top_human_df[\"human_gene\"].isin(overlap)]\n",
    "top_human_overlap = top_human_overlap_df[\"human_gene\"].tolist()\n",
    "\n",
    "# print out side-by-side\n",
    "print(f\"\\nTop {n_top_genes} pseudotime genes with 1–1 orthologs:\")\n",
    "print(f\"{'Mouse':<20} | {'Human':<20}\")\n",
    "print(\"-\" * 43)\n",
    "\n",
    "max_len = max(len(top_mouse), len(top_human))\n",
    "for i in range(max_len):\n",
    "    m = top_mouse[i] if i < len(top_mouse) else \"\"\n",
    "    h = top_human[i] if i < len(top_human) else \"\"\n",
    "    print(f\"{i+1:>2}) {m:<17} | {i+1:>2}) {h:<17}\")\n",
    "\n",
    "# print out overlap subset\n",
    "print(\"\\nOverlap subset (within top list):\")\n",
    "print(f\"{'Mouse':<20} | {'Human':<20}\")\n",
    "print(\"-\" * 43)\n",
    "\n",
    "max_len = max(len(top_mouse_overlap), len(top_human_overlap))\n",
    "for i in range(max_len):\n",
    "    m = top_mouse_overlap[i] if i < len(top_mouse_overlap) else \"\"\n",
    "    h = top_human_overlap[i] if i < len(top_human_overlap) else \"\"\n",
    "    print(f\"{m:<20} | {h:<20}\")"
   ]
  },
  {
   "cell_type": "code",
   "execution_count": null,
   "id": "5867365a-b279-4c95-adbb-e10b6f2b2cf8",
   "metadata": {},
   "outputs": [],
   "source": [
    "print(\"\\nFull overlap (as human genes):\\n\")\n",
    "print(overlap)"
   ]
  },
  {
   "cell_type": "code",
   "execution_count": null,
   "id": "d602d657-3d9f-4566-9872-caeeaa0a0838",
   "metadata": {},
   "outputs": [],
   "source": []
  }
 ],
 "metadata": {
  "kernelspec": {
   "display_name": "Python [conda env:.conda-cuda11.8_env]",
   "language": "python",
   "name": "conda-env-.conda-cuda11.8_env-py"
  },
  "language_info": {
   "codemirror_mode": {
    "name": "ipython",
    "version": 3
   },
   "file_extension": ".py",
   "mimetype": "text/x-python",
   "name": "python",
   "nbconvert_exporter": "python",
   "pygments_lexer": "ipython3",
   "version": "3.10.13"
  }
 },
 "nbformat": 4,
 "nbformat_minor": 5
}
