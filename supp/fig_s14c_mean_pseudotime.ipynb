{
 "cells": [
  {
   "cell_type": "code",
   "execution_count": 1,
   "id": "2a9eedda-692e-46a9-8793-56289d00b400",
   "metadata": {},
   "outputs": [],
   "source": [
    "import os\n",
    "import scanpy as sc\n",
    "import matplotlib.pyplot as plt\n",
    "from matplotlib.lines import Line2D\n",
    "import pandas as pd\n",
    "from pathlib import Path\n",
    "import seaborn as sns\n",
    "import numpy as np\n",
    "import re\n",
    "\n",
    "\n",
    "#adata1 = sc.read_h5ad(\"/path_to_all_mouse_cells_object.h5ad\")\n",
    "adata2 = sc.read_h5ad(\"/path_to_mouse_only_fib_and_dec_cells_object.h5ad\")\n",
    "#adata3 = sc.read_h5ad(\"path_to_mouse_only_1dpi_late_and_4dpi_fib_and_dec_cells_object.h5ad\")\n",
    "#adata4 = sc.read_h5ad(\"/path_to_all_human_cells_object.h5ad\")\n",
    "#adata5 = sc.read_h5ad(\"/path_to_human_only_fib_and_dec_cells_object.h5ad\")\n",
    "\n",
    "output_dir = Path(\"/path_to_all_mouse_cells_object\")\n",
    "output_dir.mkdir(parents=True, exist_ok=True)"
   ]
  },
  {
   "cell_type": "markdown",
   "id": "9443ddc5-4213-4ee8-9fc4-f79cb0e1b06d",
   "metadata": {},
   "source": [
    "# Fig S14d: average pseudotime values of each mouse sample"
   ]
  },
  {
   "cell_type": "code",
   "execution_count": 59,
   "id": "466c5291-7aa2-4f85-84cb-5996be2eebd8",
   "metadata": {},
   "outputs": [
    {
     "name": "stdout",
     "output_type": "stream",
     "text": [
      "   mck  mean_pseudotime\n",
      " mck_1         0.552018\n",
      "mck_10         0.625658\n",
      "mck_11         0.705431\n",
      "mck_12         0.573324\n",
      "mck_15         0.597683\n",
      " mck_8         0.092152\n"
     ]
    }
   ],
   "source": [
    "# Average pseudotime per sample in Mouse Only Fibroblast object\n",
    "\n",
    "pt_key = \"dpt_pseudotime\"\n",
    "sample_key = \"mck\"\n",
    "\n",
    "# build table and compute means\n",
    "df = adata2.obs[[sample_key, pt_key]].copy()\n",
    "df[sample_key] = df[sample_key].astype(str).str.strip()\n",
    "df = df.dropna(subset=[pt_key])\n",
    "\n",
    "avg_table = (\n",
    "    df.groupby(sample_key, sort=True)[pt_key]\n",
    "      .mean()\n",
    "      .rename(\"mean_pseudotime\")\n",
    "      .reset_index()\n",
    ")\n",
    "\n",
    "# print table\n",
    "print(avg_table.to_string(index=False))"
   ]
  }
 ],
 "metadata": {
  "kernelspec": {
   "display_name": "Python [conda env:.conda-cuda11.8_env]",
   "language": "python",
   "name": "conda-env-.conda-cuda11.8_env-py"
  },
  "language_info": {
   "codemirror_mode": {
    "name": "ipython",
    "version": 3
   },
   "file_extension": ".py",
   "mimetype": "text/x-python",
   "name": "python",
   "nbconvert_exporter": "python",
   "pygments_lexer": "ipython3",
   "version": "3.10.13"
  }
 },
 "nbformat": 4,
 "nbformat_minor": 5
}
