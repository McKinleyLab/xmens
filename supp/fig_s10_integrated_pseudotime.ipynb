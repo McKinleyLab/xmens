{
 "cells": [
  {
   "cell_type": "code",
   "execution_count": null,
   "id": "5d416ded-2486-4118-bd7e-dcca0d0ca5e6",
   "metadata": {},
   "outputs": [],
   "source": [
    "import scanpy as sc\n",
    "import numpy as np\n",
    "import scvi\n",
    "import matplotlib.pyplot as plt"
   ]
  },
  {
   "cell_type": "code",
   "execution_count": null,
   "id": "85adf5b2-04ac-4a0d-9ed1-b0004fab12bf",
   "metadata": {},
   "outputs": [],
   "source": [
    "# load data\n",
    "adata_full = sc.read_h5ad('./20251008_Cevrim_Human_All_Cells.h5ad')"
   ]
  },
  {
   "cell_type": "code",
   "execution_count": null,
   "id": "d04b181e-709f-4a21-8c13-4e28027945e2",
   "metadata": {},
   "outputs": [],
   "source": [
    "# subset along fibroblasts + decidual cellls\n",
    "cell_types_to_keep = ['decidual cells', 'endometrial fibroblasts']\n",
    "cell_type_mask = adata_full.obs['cell_type_annotations'].isin(cell_types_to_keep)\n",
    "\n",
    "adata = adata_full[cell_type_mask].copy() # subset along fibroblasts + decidual cells"
   ]
  },
  {
   "cell_type": "code",
   "execution_count": null,
   "id": "2932d4ac-9951-4fa2-a32a-2d773c2db8c3",
   "metadata": {},
   "outputs": [],
   "source": [
    "# filter out mitochondrial and ribosomal genes for HVG selection\n",
    "adata_hvg = adata[:, (~adata.var['mito']) & (~adata.var['ribo'])].copy()\n",
    "\n",
    "adata_hvg = adata.copy()\n",
    "# perform highly-variable gene selection\n",
    "sc.pp.highly_variable_genes(\n",
    "    adata_hvg,\n",
    "    flavor='seurat_v3',\n",
    "    layer='raw',\n",
    "    batch_key='sample',\n",
    "    n_top_genes=3000,\n",
    "    subset=True\n",
    ")\n",
    "\n",
    "# add back highly-variable genes to the larger adata object\n",
    "adata.uns['hvg'] = adata_hvg.uns['hvg'].copy()\n",
    "adata.var['highly_variable'] = adata.var.index.isin(list(adata_hvg.var[adata_hvg.var['highly_variable']].index))\n",
    "adata.var['highly_variable_rank'] = adata.var.index.map(dict([*zip(adata_hvg.var.index, adata_hvg.var['highly_variable_rank'])]))"
   ]
  },
  {
   "cell_type": "code",
   "execution_count": null,
   "id": "825b9dc1-1b20-460c-b931-37ce1acedbc2",
   "metadata": {},
   "outputs": [],
   "source": [
    "# create integrated scvi model\n",
    "scvi.model.SCVI.setup_anndata(adata_hvg, layer=\"raw\", batch_key = 'mck')\n",
    "model = scvi.model.SCVI(adata_hvg, n_layers=2, n_latent=30, gene_likelihood=\"nb\")"
   ]
  },
  {
   "cell_type": "code",
   "execution_count": null,
   "id": "31a70dc1-462a-4364-b738-f868a6053893",
   "metadata": {},
   "outputs": [],
   "source": [
    "# train it\n",
    "model.train(early_stopping=True)"
   ]
  },
  {
   "cell_type": "code",
   "execution_count": null,
   "id": "21bacae9-c681-4b2a-9c5b-cc40411ed01b",
   "metadata": {},
   "outputs": [],
   "source": [
    "# extract the latent representation and store it in adata.obsm\n",
    "SCVI_LATENT_KEY = \"X_scVI\"\n",
    "adata.obsm[SCVI_LATENT_KEY] = model.get_latent_representation()"
   ]
  },
  {
   "cell_type": "code",
   "execution_count": null,
   "id": "bffd133f-0125-4720-8416-ae1267e5c8f4",
   "metadata": {},
   "outputs": [],
   "source": [
    "adata.X = adata.layers['log1p'].copy() # put log1p counts back into .X"
   ]
  },
  {
   "cell_type": "code",
   "execution_count": null,
   "id": "62a67813-b0d2-45c3-9f97-a8cd175cbb52",
   "metadata": {},
   "outputs": [],
   "source": [
    "sc.pp.neighbors(adata, use_rep = 'X_scVI') # get neighbors graph"
   ]
  },
  {
   "cell_type": "code",
   "execution_count": null,
   "id": "82a64a12-a9d3-413b-a4b2-82e748453ef9",
   "metadata": {},
   "outputs": [],
   "source": [
    "sc.tl.umap(adata)"
   ]
  },
  {
   "cell_type": "code",
   "execution_count": null,
   "id": "2fe47910-3370-4a7d-aa68-50c7e1bc0c5e",
   "metadata": {},
   "outputs": [],
   "source": [
    "sc.pl.umap(adata, color = ['cell_type_coarse','mck'])"
   ]
  },
  {
   "cell_type": "code",
   "execution_count": null,
   "id": "26224a6b-b196-4995-b2d6-b18396b285d8",
   "metadata": {},
   "outputs": [],
   "source": [
    "# ensure 'mck' is categorical\n",
    "adata.obs['mck'] = adata.obs['mck'].astype('category')\n",
    "cats = list(adata.obs['mck'].cat.categories)\n",
    "\n",
    "# define custom colors\n",
    "color_map = {\n",
    "    \"mck_5\": \"#6EAB95\",  # teal\n",
    "    \"mck_6\": \"#F3B36D\",  # peach-gold\n",
    "}\n",
    "\n",
    "palette = [color_map.get(c, \"#BBBBBB\") for c in cats]\n",
    "adata.uns['mck_colors'] = palette\n",
    "\n",
    "outdir = \".\"\n",
    "\n",
    "# plot and save\n",
    "with plt.rc_context({\"figure.facecolor\": \"white\", \"axes.facecolor\": \"white\"}):\n",
    "    sc.pl.umap(\n",
    "        adata,\n",
    "        color=\"mck\",\n",
    "        size=10,\n",
    "        frameon=False,\n",
    "        legend_loc=\"on data\",\n",
    "        title=\"UMAP colored by mck\",\n",
    "        show=False,\n",
    "    )\n",
    "    fig = plt.gcf()\n",
    "    fig.savefig(f\"{outdir}/integrated_pseudotime_mck.png\", dpi=300, bbox_inches=\"tight\")\n",
    "    plt.close(fig)"
   ]
  },
  {
   "cell_type": "code",
   "execution_count": null,
   "id": "2d324ac9-1415-46f5-91ed-46e5b1f0b6c9",
   "metadata": {},
   "outputs": [],
   "source": [
    "# ensure 'cell_type_annotations' is categorical\n",
    "adata.obs['cell_type_coarse'] = adata.obs['cell_type_coarse'].astype('category')\n",
    "cats = list(adata.obs['cell_type_coarse'].cat.categories)\n",
    "\n",
    "# define custom colors\n",
    "color_map = {\n",
    "    \"decidual cells\": \"#00FFFF\",          # cyan\n",
    "    \"endometrial fibroblasts\": \"#FF00FF\", # magenta\n",
    "}\n",
    "palette = [color_map.get(c, \"#BBBBBB\") for c in cats]\n",
    "adata.uns['cell_type_coarse_colors'] = palette  # Scanpy expects this naming convention\n",
    "\n",
    "outdir = \".\"\n",
    "\n",
    "# plot and save\n",
    "with plt.rc_context({\"figure.facecolor\": \"white\", \"axes.facecolor\": \"white\"}):\n",
    "    sc.pl.umap(\n",
    "        adata,\n",
    "        color=\"cell_type_coarse\",\n",
    "        size=10,\n",
    "        frameon=False,\n",
    "        legend_loc=\"on data\",\n",
    "        title=\"UMAP colored by cell_type_coarse\",\n",
    "        show=False,\n",
    "    )\n",
    "    fig = plt.gcf()\n",
    "    fig.savefig(f\"{outdir}/integrated_pseudotime_celltype.png\", dpi=300, bbox_inches=\"tight\")\n",
    "    plt.close(fig)\n"
   ]
  },
  {
   "cell_type": "markdown",
   "id": "b2a1a7ed-919a-4364-9da5-1950d99feebd",
   "metadata": {},
   "source": [
    "# pseudotime!"
   ]
  },
  {
   "cell_type": "code",
   "execution_count": null,
   "id": "046dee62-fcf2-46b6-a560-c785b566b8f2",
   "metadata": {},
   "outputs": [],
   "source": [
    "# calculate diffusion map\n",
    "sc.tl.diffmap(adata, n_comps=10)"
   ]
  },
  {
   "cell_type": "markdown",
   "id": "0c005ff5-463c-40c6-ae72-2346d447cf1a",
   "metadata": {},
   "source": [
    "## choose a root"
   ]
  },
  {
   "cell_type": "code",
   "execution_count": null,
   "id": "490cf685-b879-4adc-a341-1479dfd258d3",
   "metadata": {},
   "outputs": [],
   "source": [
    "mouse_root_bc = 'CCGAACGCACTCTCGT'\n",
    "human_root_bc = 'AACAACCGTCAAGCGA'\n",
    "root_bc = human_root_bc\n",
    "root_idx = adata.obs.index.get_loc(root_bc)\n",
    "adata.uns['iroot'] = root_idx\n",
    "\n",
    "adata.obs['is_root'] = False\n",
    "adata.obs.iloc[root_idx, adata.obs.columns.get_loc('is_root')] = True"
   ]
  },
  {
   "cell_type": "code",
   "execution_count": null,
   "id": "a2ffa141-b2d4-4e2c-a6ab-ffc4ac917cd1",
   "metadata": {},
   "outputs": [],
   "source": [
    "embedding = 'X_umap'\n",
    "ax = sc.pl.embedding(adata,basis = 'X_umap', color=None, frameon=False, show=False)\n",
    "ax.scatter(\n",
    "    *adata.obsm['X_umap'][root_idx],\n",
    "    s=60, c='red', edgecolor='black', linewidth=0.6\n",
    ")\n",
    "\n",
    "print(f\"Using cell #{root_idx!r} ({adata.obs_names[root_idx]}) as root.\")\n",
    "\n",
    "plt.show()"
   ]
  },
  {
   "cell_type": "code",
   "execution_count": null,
   "id": "296b57fc-b1a6-41ab-bbec-72660076fcec",
   "metadata": {},
   "outputs": [],
   "source": [
    "# run pseudotime\n",
    "sc.tl.dpt(adata, n_dcs=10)\n",
    "\n",
    "# pseudotime lives in:\n",
    "adata.obs['dpt_pseudotime'].head()"
   ]
  },
  {
   "cell_type": "code",
   "execution_count": null,
   "id": "f75a1b31-da13-4f96-b0e3-ee06f0d9e9cc",
   "metadata": {},
   "outputs": [],
   "source": [
    "sc.pl.embedding(adata,basis = 'X_umap', color='dpt_pseudotime', cmap='viridis')"
   ]
  },
  {
   "cell_type": "code",
   "execution_count": null,
   "id": "b9bc1b7b-e7c4-4d21-956d-81e9a6fd131e",
   "metadata": {},
   "outputs": [],
   "source": [
    "outdir = \".\"\n",
    "\n",
    "# plot and save\n",
    "with plt.rc_context({\"figure.facecolor\": \"white\", \"axes.facecolor\": \"white\"}):\n",
    "    sc.pl.umap(\n",
    "        adata,\n",
    "        color=\"dpt_pseudotime\",\n",
    "        cmap=\"viridis\",     # standard viridis\n",
    "        size=10,\n",
    "        frameon=False,\n",
    "        legend_loc=None,    # continuous variable → colorbar, not legend\n",
    "        title=\"UMAP colored by pseudotime (DPT)\",\n",
    "        show=False,\n",
    "    )\n",
    "    fig = plt.gcf()\n",
    "    fig.savefig(f\"{outdir}/integrated_pseudotime_dpt.png\", dpi=300, bbox_inches=\"tight\")\n",
    "    plt.close(fig)"
   ]
  }
 ],
 "metadata": {
  "kernelspec": {
   "display_name": "Python [conda env:.conda-cuda11.8_env]",
   "language": "python",
   "name": "conda-env-.conda-cuda11.8_env-py"
  },
  "language_info": {
   "codemirror_mode": {
    "name": "ipython",
    "version": 3
   },
   "file_extension": ".py",
   "mimetype": "text/x-python",
   "name": "python",
   "nbconvert_exporter": "python",
   "pygments_lexer": "ipython3",
   "version": "3.10.13"
  }
 },
 "nbformat": 4,
 "nbformat_minor": 5
}
