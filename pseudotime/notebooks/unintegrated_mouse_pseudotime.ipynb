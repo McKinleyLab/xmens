{
 "cells": [
  {
   "cell_type": "code",
   "execution_count": null,
   "id": "5d416ded-2486-4118-bd7e-dcca0d0ca5e6",
   "metadata": {},
   "outputs": [],
   "source": [
    "import scanpy as sc\n",
    "import numpy as np\n",
    "import scvi\n",
    "import matplotlib.pyplot as plt"
   ]
  },
  {
   "cell_type": "code",
   "execution_count": null,
   "id": "85adf5b2-04ac-4a0d-9ed1-b0004fab12bf",
   "metadata": {},
   "outputs": [],
   "source": [
    "adata = sc.read_h5ad('20251008_Cevrim_XMens_Only_Fib_Dec_Cells.h5ad')"
   ]
  },
  {
   "cell_type": "code",
   "execution_count": null,
   "id": "275d7da5-0332-47f5-9b9d-d1f0a552ae54",
   "metadata": {},
   "outputs": [],
   "source": [
    "adata.X = adata.layers['raw'].copy()"
   ]
  },
  {
   "cell_type": "code",
   "execution_count": null,
   "id": "2932d4ac-9951-4fa2-a32a-2d773c2db8c3",
   "metadata": {},
   "outputs": [],
   "source": [
    "# filter out mitochondrial and ribosomal genes for HVG selection.\n",
    "print(\"Filtering out mitochondrial and ribosomal genes for HVG selection...\")\n",
    "adata_hvg = adata[:, (~adata.var['mito']) & (~adata.var['ribo'])].copy()\n",
    "adata_hvg = adata.copy()\n",
    "print(f\"  Retained {adata_hvg.shape[0]} cells and {adata_hvg.shape[1]} genes for HVG selection.\")\n",
    "\n",
    "# Perform highly-variable gene selection (not using sample batch information at the subobject level).\n",
    "print(\"Performing highly-variable gene selection (flavor='seurat_v3') on the aggregate data...\")\n",
    "sc.pp.highly_variable_genes(\n",
    "    adata_hvg,\n",
    "    flavor='seurat_v3',\n",
    "    layer='raw',\n",
    "    batch_key='sample',    # Not used at the subobject level.\n",
    "    n_top_genes=3000,\n",
    "    subset=True\n",
    ")\n",
    "\n"
   ]
  },
  {
   "cell_type": "code",
   "execution_count": null,
   "id": "21bacae9-c681-4b2a-9c5b-cc40411ed01b",
   "metadata": {},
   "outputs": [],
   "source": [
    "# Extract the latent representation and store it in adata.obsm.\n",
    "SCVI_LATENT_KEY = \"X_scVI_fibroblasts\"\n",
    "print(\"Extracting latent representation from the trained model...\")\n",
    "adata.obsm[SCVI_LATENT_KEY] = model.get_latent_representation()"
   ]
  },
  {
   "cell_type": "code",
   "execution_count": null,
   "id": "40c04c64-255d-4600-9333-a6d20d17277d",
   "metadata": {},
   "outputs": [],
   "source": [
    "sc.pp.normalize_total(adata)\n",
    "sc.pp.log1p(adata)"
   ]
  },
  {
   "cell_type": "code",
   "execution_count": null,
   "id": "bffd133f-0125-4720-8416-ae1267e5c8f4",
   "metadata": {},
   "outputs": [],
   "source": [
    "adata.X = adata.layers['log1p'].copy()"
   ]
  },
  {
   "cell_type": "code",
   "execution_count": null,
   "id": "62a67813-b0d2-45c3-9f97-a8cd175cbb52",
   "metadata": {},
   "outputs": [],
   "source": [
    "sc.pp.neighbors(adata, use_rep = 'X_scVI_fibroblasts')"
   ]
  },
  {
   "cell_type": "code",
   "execution_count": null,
   "id": "82a64a12-a9d3-413b-a4b2-82e748453ef9",
   "metadata": {},
   "outputs": [],
   "source": [
    "sc.tl.umap(adata)"
   ]
  },
  {
   "cell_type": "code",
   "execution_count": null,
   "id": "2d324ac9-1415-46f5-91ed-46e5b1f0b6c9",
   "metadata": {},
   "outputs": [],
   "source": [
    "sc.pl.umap(adata, color = ['cell_type_coarse','timepoint'])"
   ]
  },
  {
   "cell_type": "markdown",
   "id": "b2a1a7ed-919a-4364-9da5-1950d99feebd",
   "metadata": {},
   "source": [
    "# pseudotime!"
   ]
  },
  {
   "cell_type": "code",
   "execution_count": null,
   "id": "046dee62-fcf2-46b6-a560-c785b566b8f2",
   "metadata": {},
   "outputs": [],
   "source": [
    "# calculate diffusion map\n",
    "sc.tl.diffmap(adata, n_comps=10)"
   ]
  },
  {
   "cell_type": "markdown",
   "id": "0c005ff5-463c-40c6-ae72-2346d447cf1a",
   "metadata": {},
   "source": [
    "choose a root"
   ]
  },
  {
   "cell_type": "code",
   "execution_count": null,
   "id": "490cf685-b879-4adc-a341-1479dfd258d3",
   "metadata": {},
   "outputs": [],
   "source": [
    "## one way to choose a root: randomly select it from a subset of interest\n",
    "\n",
    "# isolate cells of interest\n",
    "category = 'timepoint'\n",
    "grouping = 'uninduced'\n",
    "\n",
    "uninduced_mask    = adata.obs[category] == grouping\n",
    "uninduced_indices = np.flatnonzero(uninduced_mask)\n",
    "\n",
    "# randomly choose an root cell from cells of interest\n",
    "np.random.seed(42)                 \n",
    "root_idx        = np.random.choice(uninduced_indices)\n",
    "adata.uns['iroot'] = root_idx"
   ]
  },
  {
   "cell_type": "code",
   "execution_count": null,
   "id": "5534c972-e11d-4137-9513-8fc008d17837",
   "metadata": {},
   "outputs": [],
   "source": [
    "adata.obs['is_root'] = False                  # default\n",
    "adata.obs.iloc[root_idx, adata.obs.columns.get_loc('is_root')] = True"
   ]
  },
  {
   "cell_type": "code",
   "execution_count": null,
   "id": "8ae31b6b-8dfc-4cc4-b4d0-f671f999a15a",
   "metadata": {},
   "outputs": [],
   "source": [
    "ax = sc.pl.umap(adata, color=None, frameon=False, show=False)\n",
    "ax.scatter(\n",
    "    *adata.obsm['X_umap'][root_idx],\n",
    "    s=60, c='red', edgecolor='black', linewidth=0.6\n",
    ")\n",
    "\n",
    "print(f\"Using cell #{root_idx!r} ({adata.obs_names[root_idx]}) as root.\")\n",
    "\n",
    "plt.show()"
   ]
  },
  {
   "cell_type": "code",
   "execution_count": null,
   "id": "296b57fc-b1a6-41ab-bbec-72660076fcec",
   "metadata": {},
   "outputs": [],
   "source": [
    "# run pseudotime\n",
    "sc.tl.dpt(adata, n_dcs=10)\n",
    "\n",
    "# pseudotime lives in:\n",
    "adata.obs['dpt_pseudotime'].head()"
   ]
  },
  {
   "cell_type": "code",
   "execution_count": null,
   "id": "f75a1b31-da13-4f96-b0e3-ee06f0d9e9cc",
   "metadata": {},
   "outputs": [],
   "source": [
    "sc.pl.umap(adata, color='dpt_pseudotime', cmap='viridis')"
   ]
  },
  {
   "cell_type": "code",
   "execution_count": null,
   "id": "1e4d1329-6a88-44bc-988f-3052a11fdea1",
   "metadata": {},
   "outputs": [],
   "source": [
    "adata.write_h5ad('./unintegrated_mouse.h5ad')"
   ]
  },
  {
   "cell_type": "code",
   "execution_count": null,
   "id": "0d71ed15-6671-4fd8-856a-fe1c49bc0bae",
   "metadata": {},
   "outputs": [],
   "source": []
  }
 ],
 "metadata": {
  "kernelspec": {
   "display_name": "Python [conda env:.conda-cuda11.8_env]",
   "language": "python",
   "name": "conda-env-.conda-cuda11.8_env-py"
  },
  "language_info": {
   "codemirror_mode": {
    "name": "ipython",
    "version": 3
   },
   "file_extension": ".py",
   "mimetype": "text/x-python",
   "name": "python",
   "nbconvert_exporter": "python",
   "pygments_lexer": "ipython3",
   "version": "3.10.13"
  }
 },
 "nbformat": 4,
 "nbformat_minor": 5
}
