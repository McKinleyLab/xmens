{
 "cells": [
  {
   "cell_type": "code",
   "execution_count": null,
   "id": "a2979a8a-5faf-4840-8c22-7a0cb5f4e34a",
   "metadata": {},
   "outputs": [],
   "source": [
    "import os\n",
    "import numpy as np\n",
    "import matplotlib.pyplot as plt\n",
    "from matplotlib.path import Path\n",
    "\n",
    "import scanpy as sc\n",
    "from scipy.interpolate import griddata\n",
    "from scipy.ndimage import gaussian_filter\n",
    "from scipy.spatial import ConvexHull\n",
    "from sklearn.gaussian_process import GaussianProcessRegressor\n",
    "from sklearn.gaussian_process.kernels import RBF, WhiteKernel\n",
    "from sklearn.neighbors import NearestNeighbors\n",
    "\n",
    "from matplotlib import patches as mpatches"
   ]
  },
  {
   "cell_type": "code",
   "execution_count": null,
   "id": "c242e72a-1829-4b5f-8153-b2d45471ed5e",
   "metadata": {},
   "outputs": [],
   "source": [
    "# helper function for plotting spatial obs field (pseudotime)\n",
    "def plot_spatial_obs(\n",
    "    adata,\n",
    "    obs_key: str,\n",
    "    x_key: str = \"x_um_dbscan\",\n",
    "    y_key: str = \"y_um_dbscan\",\n",
    "    cmap: str = \"viridis\",\n",
    "):\n",
    "    obs = adata.obs\n",
    "    mask = obs[x_key].notna() & obs[y_key].notna() & obs[obs_key].notna()\n",
    "    x = obs.loc[mask, x_key].values\n",
    "    y = obs.loc[mask, y_key].values\n",
    "    vals = obs.loc[mask, obs_key].astype(float).values\n",
    "\n",
    "    fig = plt.figure(figsize=(6, 6))\n",
    "\n",
    "    sc = plt.scatter(x, y, c=vals, cmap=cmap,\n",
    "                     s=5, alpha=0.8, vmin=0, vmax=1)\n",
    "\n",
    "    plt.xlabel(x_key); plt.ylabel(y_key); plt.gca().set_aspect(\"equal\")\n",
    "    plt.title(f\"{obs_key} (spatial)\")\n",
    "    plt.colorbar(sc, shrink=0.75, label=obs_key)\n",
    "    plt.tight_layout()\n",
    "    plt.show(); plt.close(fig)"
   ]
  },
  {
   "cell_type": "code",
   "execution_count": null,
   "id": "36bc7800-816a-4747-a143-fc4bdbe641f9",
   "metadata": {},
   "outputs": [],
   "source": [
    "# plot styling\n",
    "plt.rcParams.update({\n",
    "    'axes.facecolor'  : 'black',\n",
    "    'figure.facecolor': 'black',\n",
    "    'axes.edgecolor'  : 'white',\n",
    "    'xtick.color'     : 'white',\n",
    "    'ytick.color'     : 'white',\n",
    "    'text.color'      : 'white',\n",
    "    'axes.labelcolor' : 'white',\n",
    "})"
   ]
  },
  {
   "cell_type": "code",
   "execution_count": null,
   "id": "b0b95132-a843-42e8-976f-04579ce22c7d",
   "metadata": {},
   "outputs": [],
   "source": [
    "h5ad_file = '/path/to/h5ad'\n",
    "h5ad_path = os.path.join(base_path,h5ad_file)\n",
    "\n",
    "adata_full = sc.read_h5ad(h5ad_path)"
   ]
  },
  {
   "cell_type": "code",
   "execution_count": null,
   "id": "86195f98-658d-47f3-a58f-79a139dd5f7b",
   "metadata": {},
   "outputs": [],
   "source": [
    "# keep only spatially mapped cells\n",
    "mapped_mask = ~adata_full.obs['x_um_dbscan'].isna()\n",
    "adata = adata_full[mapped_mask].copy()\n",
    "\n",
    "sc.pl.umap(adata, color=['dpt_pseudotime', 'cell_type_fine'], cmap = 'plasma',save='4dpi_pseudotime.png')"
   ]
  },
  {
   "cell_type": "code",
   "execution_count": null,
   "id": "aa14c670-65e4-4d07-a82b-94e42f39588d",
   "metadata": {},
   "outputs": [],
   "source": [
    "plot_spatial_obs(adata, obs_key='dpt_pseudotime', cmap='plasma')"
   ]
  },
  {
   "cell_type": "code",
   "execution_count": null,
   "id": "7229425f-6663-4cca-bed0-6959fd1a6eff",
   "metadata": {},
   "outputs": [],
   "source": [
    "# basic outlier filtering on dpt_speudotime monotonicity and average neighbor distance\n",
    "coords = adata.obs[['x_um_dbscan', 'y_um_dbscan']].values\n",
    "z      = adata.obs['dpt_pseudotime'].values\n",
    "\n",
    "# create k-nn graph on physical space\n",
    "k = 5\n",
    "nn = NearestNeighbors(n_neighbors=k + 1).fit(coords)\n",
    "distances, idx = nn.kneighbors(coords)"
   ]
  },
  {
   "cell_type": "code",
   "execution_count": null,
   "id": "77ae97f3-c163-4720-9b39-ce2251dd704f",
   "metadata": {},
   "outputs": [],
   "source": [
    "# percentile cutoffs\n",
    "neighbor_dpt_percentile = 95\n",
    "neighbor_dist_percentile = 98\n",
    "\n",
    "# pseudotime diff\n",
    "neighbor_mean_z = z[idx[:, 1:]].mean(1)\n",
    "pseudotime_diff = np.abs(z - neighbor_mean_z)\n",
    "pseudotime_diff_cutoff = np.percentile(pseudotime_diff, neighbor_dpt_percentile)\n",
    "z_inlier = pseudotime_diff <= pseudotime_diff_cutoff\n",
    "\n",
    "# neighbor distances\n",
    "mean_neighbor_dist = distances[:, 1:].mean(1)\n",
    "neighbor_dist_cutoff = np.percentile(mean_neighbor_dist, neighbor_dist_percentile)\n",
    "dist_inlier = mean_neighbor_dist <= neighbor_dist_cutoff"
   ]
  },
  {
   "cell_type": "code",
   "execution_count": null,
   "id": "4ff63b45-14fd-413d-9569-9754dc74265b",
   "metadata": {},
   "outputs": [],
   "source": [
    "fig, axes = plt.subplots(1, 2, figsize=(12, 5), sharey=True)\n",
    "\n",
    "# panel 1: pseudotime diff\n",
    "counts, bins, patches = axes[0].hist(\n",
    "    pseudotime_diff, bins=100, edgecolor=\"black\", log=True, color=\"tab:blue\"\n",
    ")\n",
    "for b, p in zip(bins[:-1], patches):\n",
    "    if b >= pseudotime_diff_cutoff:\n",
    "        p.set_facecolor(\"tab:orange\")\n",
    "axes[0].axvline(\n",
    "    pseudotime_diff_cutoff, color=\"white\", linestyle=\"--\", linewidth=2.5,\n",
    "    label=f\"{neighbor_dpt_percentile}th percentile\"\n",
    ")\n",
    "axes[0].set_xlabel(\"Pseudotime difference\")\n",
    "axes[0].set_ylabel(\"Count (log scale)\")\n",
    "axes[0].set_title(\"Distribution of pseudotime differences\")\n",
    "axes[0].legend()\n",
    "\n",
    "# panel 2: mean neighbor distances\n",
    "counts, bins, patches = axes[1].hist(\n",
    "    mean_neighbor_dist, bins=100, edgecolor=\"black\", log=True, color=\"tab:blue\"\n",
    ")\n",
    "for b, p in zip(bins[:-1], patches):\n",
    "    if b >= neighbor_dist_cutoff:\n",
    "        p.set_facecolor(\"tab:orange\")\n",
    "axes[1].axvline(\n",
    "    neighbor_dist_cutoff, color=\"white\", linestyle=\"--\", linewidth=2.5,\n",
    "    label=f\"{neighbor_dist_percentile}th percentile\"\n",
    ")\n",
    "axes[1].set_xlabel(\"Mean neighbor distance\")\n",
    "axes[1].set_title(\"Distribution of mean neighbor distances\")\n",
    "axes[1].legend()\n",
    "\n",
    "# finalize and save\n",
    "plt.tight_layout()\n",
    "plt.savefig(\"./pseudotime_and_neighbor_histograms.png\", dpi=300)\n",
    "plt.show()"
   ]
  },
  {
   "cell_type": "code",
   "execution_count": null,
   "id": "91bfbef9-23a3-429d-b56f-a21cd2ee2521",
   "metadata": {},
   "outputs": [],
   "source": [
    "inlier_mask = z_inlier & dist_inlier\n",
    "\n",
    "# optional sample subset (single sample keeps same mask logic)\n",
    "sub_mask = inlier_mask\n",
    "\n",
    "#sub_mask = inlier_mask\n",
    "coords_filtered = coords[sub_mask]\n",
    "z_filtered      = z[sub_mask]"
   ]
  },
  {
   "cell_type": "code",
   "execution_count": null,
   "id": "5b4fbe62-8ab7-4ae7-9038-b578d1e4bd37",
   "metadata": {},
   "outputs": [],
   "source": [
    "plot_spatial_obs(adata[sub_mask], obs_key='dpt_pseudotime', cmap='plasma')"
   ]
  },
  {
   "cell_type": "code",
   "execution_count": null,
   "id": "e0e40666-07fb-4f0f-b901-597df8cdce50",
   "metadata": {},
   "outputs": [],
   "source": [
    "# gaussian process fit\n",
    "kernel = RBF(length_scale=1.0) + WhiteKernel(noise_level=1e-3)\n",
    "gpr    = GaussianProcessRegressor(kernel=kernel, normalize_y=True)\n",
    "gpr.fit(coords_filtered, z_filtered)"
   ]
  },
  {
   "cell_type": "code",
   "execution_count": null,
   "id": "b4355180-29ce-4752-b4ed-8b4c085b2941",
   "metadata": {},
   "outputs": [],
   "source": [
    "gpr.kernel_"
   ]
  },
  {
   "cell_type": "code",
   "execution_count": null,
   "id": "e4627fba-0b9a-43db-8f75-4167bd981f3c",
   "metadata": {},
   "outputs": [],
   "source": [
    "# make a 200 by 200 grid\n",
    "grid_res = 200\n",
    "\n",
    "x_grid = np.linspace(coords_filtered[:,0].min(), coords_filtered[:,0].max(), grid_res)\n",
    "y_grid = np.linspace(coords_filtered[:,1].min(), coords_filtered[:,1].max(), grid_res)\n",
    "\n",
    "Xg, Yg = np.meshgrid(x_grid, y_grid)\n",
    "grid_pts = np.c_[Xg.ravel(), Yg.ravel()]"
   ]
  },
  {
   "cell_type": "code",
   "execution_count": null,
   "id": "2db939e5-6d95-4c9d-98dd-6d92955e61cf",
   "metadata": {},
   "outputs": [],
   "source": [
    "# get the value of the GPR on grid points\n",
    "Z_mean = gpr.predict(grid_pts).reshape(grid_res, grid_res)"
   ]
  },
  {
   "cell_type": "code",
   "execution_count": null,
   "id": "e36bde68-45a5-4459-bd2f-a4a97cb24302",
   "metadata": {},
   "outputs": [],
   "source": [
    "# visualize mean of the GRP\n",
    "plt.figure(figsize=(9, 8))\n",
    "\n",
    "# plot countour (mean of GP)\n",
    "cf = plt.contourf(Xg, Yg, Z_mean, levels=50, cmap='plasma')\n",
    "\n",
    "# plot cells with pseudotime values\n",
    "plt.scatter(coords_filtered[:,0], coords_filtered[:,1], c=z_filtered,\n",
    "            cmap='plasma', s=10, edgecolor='k', linewidth=0.2, alpha=0.6)\n",
    "\n",
    "plt.colorbar(cf, label='GP mean pseudotime')\n",
    "plt.title(\"GP pseudotime surface\")\n",
    "plt.savefig('./gp_regression.png',dpi=300)\n",
    "plt.gca().set_aspect('equal'); plt.tight_layout(); plt.show()"
   ]
  },
  {
   "cell_type": "code",
   "execution_count": null,
   "id": "d7e260c2-eb89-4081-bbe0-bbe3c5c9c230",
   "metadata": {},
   "outputs": [],
   "source": [
    "# compute grid poitns and gradients\n",
    "grid_pts = np.c_[Xg.ravel(), Yg.ravel()]\n",
    "Zg = gpr.predict(grid_pts).reshape(Xg.shape)\n",
    "dy, dx = Yg[1,0] - Yg[0,0], Xg[0,1] - Xg[0,0]\n",
    "dZ_dy, dZ_dx = np.gradient(Zg, dy, dx)\n",
    "DX_grid, DY_grid = dZ_dx, dZ_dy\n",
    "\n",
    "# convex hull mask\n",
    "poly = coords_filtered[ConvexHull(coords_filtered).vertices]\n",
    "inside = Path(poly, closed=True).contains_points(grid_pts).reshape(Xg.shape)\n",
    "\n",
    "Zg_mask  = np.where(inside, Zg,      np.nan)\n",
    "DX_mask  = np.where(inside, DX_grid, np.nan)\n",
    "DY_mask  = np.where(inside, DY_grid, np.nan)\n",
    "\n",
    "# blur helper\n",
    "def blur_nan(A, sigma):\n",
    "    m = np.isfinite(A).astype(float)\n",
    "    Af = np.where(np.isfinite(A), A, 0.0)\n",
    "    num = gaussian_filter(Af, sigma=sigma)\n",
    "    den = gaussian_filter(m,  sigma=sigma)\n",
    "    out = num / den\n",
    "    out[den == 0] = np.nan\n",
    "    return out, den\n",
    "\n",
    "# pick a center for drawing blur ellipses (centroid of coords)\n",
    "xc, yc = coords_filtered.mean(axis=0)"
   ]
  },
  {
   "cell_type": "code",
   "execution_count": null,
   "id": "43c618cc-d8bb-4c02-b099-48d091ac77a7",
   "metadata": {},
   "outputs": [],
   "source": [
    "# plot over choices of blur width\n",
    "sigmas = [2.5, 5, 10]\n",
    "fig, axes = plt.subplots(1, 3, figsize=(18, 5))\n",
    "\n",
    "for ax, sigma in zip(axes, sigmas):\n",
    "    # blur fields\n",
    "    Z_blur,  Z_support  = blur_nan(Zg_mask,  sigma)\n",
    "    DX_blur, DX_support = blur_nan(DX_mask,  sigma)\n",
    "    DY_blur, DY_support = blur_nan(DY_mask,  sigma)\n",
    "\n",
    "    # re-apply hull mask + support threshold\n",
    "    support_thresh = 0.5\n",
    "    support_ok = (Z_support >= support_thresh) & (DX_support >= support_thresh) & (DY_support >= support_thresh)\n",
    "    final_mask = inside & support_ok\n",
    "    Z_blur[~final_mask]  = np.nan\n",
    "    DX_blur[~final_mask] = np.nan\n",
    "    DY_blur[~final_mask] = np.nan\n",
    "\n",
    "    # plot surface + streamlines\n",
    "    im = ax.pcolormesh(Xg, Yg, np.ma.masked_invalid(Z_blur),\n",
    "                       cmap=\"plasma\", shading=\"auto\")\n",
    "    ax.streamplot(Xg, Yg, DX_blur, DY_blur,\n",
    "                  color=\"k\", density=2, linewidth=1.2, arrowsize=1.6)\n",
    "\n",
    "    # draw a red ellipse for 1sigma extent\n",
    "    sigma_x, sigma_y = sigma * dx, sigma * dy\n",
    "    e = mpatches.Ellipse((xc, yc), width=2*sigma_x, height=2*sigma_y,\n",
    "                         fill=False, color='red', linestyle=\"--\", linewidth=1.5)\n",
    "    ax.add_patch(e)\n",
    "\n",
    "    # annotate sigma and full width at half max\n",
    "    ax.text(0.02, 0.98,\n",
    "            f\"σ = {sigma:g} px\\nFWHM ≈ {2.355*sigma:.2f} px\",\n",
    "            transform=ax.transAxes, va=\"top\", ha=\"left\",\n",
    "            bbox=dict(facecolor=\"white\", alpha=0.7, edgecolor=\"none\", pad=4),\n",
    "            fontsize=9)\n",
    "\n",
    "    ax.set_aspect(\"equal\")\n",
    "    ax.set_title(f\"σ={sigma} blur\")\n",
    "\n",
    "# colorbar\n",
    "cbar_ax = fig.add_axes([0.92, 0.15, 0.02, 0.7])  # [left, bottom, width, height]\n",
    "fig.colorbar(im, cax=cbar_ax, label=\"GP pseudotime\")\n",
    "\n",
    "plt.subplots_adjust(right=0.9, wspace=0.3)  # leave space for colorbar\n",
    "plt.show()"
   ]
  }
 ],
 "metadata": {
  "kernelspec": {
   "display_name": "Python [conda env:.conda-cuda11.8_env]",
   "language": "python",
   "name": "conda-env-.conda-cuda11.8_env-py"
  },
  "language_info": {
   "codemirror_mode": {
    "name": "ipython",
    "version": 3
   },
   "file_extension": ".py",
   "mimetype": "text/x-python",
   "name": "python",
   "nbconvert_exporter": "python",
   "pygments_lexer": "ipython3",
   "version": "3.10.13"
  }
 },
 "nbformat": 4,
 "nbformat_minor": 5
}
