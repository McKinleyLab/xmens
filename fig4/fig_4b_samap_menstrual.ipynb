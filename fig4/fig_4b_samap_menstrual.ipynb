{
 "cells": [
  {
   "cell_type": "code",
   "execution_count": null,
   "id": "2044475c-217d-4937-9aa4-0086d38f78ea",
   "metadata": {},
   "outputs": [],
   "source": [
    "import scanpy as sc\n",
    "import matplotlib.pyplot as plt"
   ]
  },
  {
   "cell_type": "code",
   "execution_count": null,
   "id": "358ea43b-b3ab-4a90-83ce-b3b87353d98c",
   "metadata": {},
   "outputs": [],
   "source": [
    "# import integrated samap anndata\n",
    "adata = sc.read_h5ad('./2025_10_08_samap_4_dpi_menstrual.h5ad')"
   ]
  },
  {
   "cell_type": "code",
   "execution_count": null,
   "id": "269026fc-035b-4eef-b37f-a7e347fd96fd",
   "metadata": {},
   "outputs": [],
   "source": [
    "# fig 3b: species samap umap\n",
    "sc.pl.umap(adata, color = 'species')"
   ]
  },
  {
   "cell_type": "code",
   "execution_count": null,
   "id": "5b04c36d-2b70-4344-a51b-42eb5af59fee",
   "metadata": {
    "tags": []
   },
   "outputs": [],
   "source": [
    "# leiden clustering on samap (joint species) anndata\n",
    "sc.tl.leiden(\n",
    "    adata,   \n",
    "    resolution=0.2,\n",
    "    random_state=SEED,\n",
    "#    flavor=\"igraph\",\n",
    "#    neighbors_key='connectivities',\n",
    "    key_added=f'leiden_samap_{res}'\n",
    ")"
   ]
  },
  {
   "cell_type": "code",
   "execution_count": null,
   "id": "94f6e56e-4dba-4e7a-b259-83598eff8e4a",
   "metadata": {},
   "outputs": [],
   "source": [
    "# fig 3b: leiden clusters on SAMap embedding\n",
    "sc.pl.umap(adata, color = 'leiden_samap_0.2')"
   ]
  },
  {
   "cell_type": "code",
   "execution_count": null,
   "id": "b2904c38-5bc4-457c-be44-f9333fbe16a0",
   "metadata": {},
   "outputs": [],
   "source": [
    "# color map\n",
    "colors = {\n",
    "    \"0\": \"#F4A585\",  # medium peach\n",
    "    \"1\": \"#FFD1B3\",  # very light peach\n",
    "    \"4\": \"#C95A3E\",  # deep reddish peach\n",
    "    \"2\": \"#3489BE\",  # medium blue\n",
    "    \"3\": \"#14597E\",  # dark teal-blue\n",
    "}\n",
    "\n",
    "fallback = \"#BDBDBD\""
   ]
  },
  {
   "cell_type": "code",
   "execution_count": null,
   "id": "c4fd577a-f751-4f8d-b79f-505fb0aa4d4f",
   "metadata": {},
   "outputs": [],
   "source": [
    "# get mouse data from integrated samap anndata\n",
    "species_mask = adata.obs['species'] == 'mm'\n",
    "mapped_mask = ~adata.obs['x_um_dbscan'].isna()\n",
    "mm = adata[species_mask & mapped_mask].copy()"
   ]
  },
  {
   "cell_type": "code",
   "execution_count": null,
   "id": "73520b28-2955-4fef-9966-9d7245c527f8",
   "metadata": {},
   "outputs": [],
   "source": [
    "# get spatial coordiantes\n",
    "x = mm.obs[\"x_um_dbscan\"].to_numpy()\n",
    "y = mm.obs[\"y_um_dbscan\"].to_numpy()\n",
    "labels = mm.obs[\"leiden_samap_0.2\"].astype(str)\n",
    "\n",
    "pt = 5\n",
    "\n",
    "# booelan masks\n",
    "masks = {\n",
    "    \"fallback\": (~labels.isin(list(colors.keys()))).to_numpy(),\n",
    "    \"1\": (labels == \"1\"),\n",
    "    \"3\": (labels == \"3\"),\n",
    "    \"0\": (labels == \"0\"),\n",
    "    \"2\": (labels == \"2\"),\n",
    "    \"4\": (labels == \"4\"),\n",
    "}\n",
    "\n",
    "fig, ax = plt.subplots(figsize=(6, 6), facecolor=\"black\")\n",
    "ax.set_facecolor(\"black\")\n",
    "ax.axis(\"off\")\n",
    "\n",
    "# plot clusters (in given order)\n",
    "if masks[\"fallback\"].any():\n",
    "    ax.scatter(x[masks[\"fallback\"]], y[masks[\"fallback\"]], s=pt, c=fallback, alpha=0.9)\n",
    "for k in [\"4\", \"1\", \"0\", \"3\", \"2\"]:\n",
    "    m = masks[k]\n",
    "    if m.any():\n",
    "        ax.scatter(x[m], y[m], s=pt, c=colors[k], alpha=0.95)\n",
    "\n",
    "plt.show()\n",
    "#fig.savefig(f\"./mm_samap_leiden_spatial_sec.png\", dpi=300, bbox_inches=\"tight\", facecolor=\"black\")\n",
    "plt.close(fig)"
   ]
  },
  {
   "cell_type": "code",
   "execution_count": null,
   "id": "be7f0dca-d392-4e90-9830-dd5b92b3f9af",
   "metadata": {},
   "outputs": [],
   "source": [
    "clusters = sorted(adata.obs['leiden_samap_0.2'].unique())\n",
    "\n",
    "# figure: one square (subplot) per cluster\n",
    "n = len(clusters)\n",
    "fig, axes = plt.subplots(n, 1, figsize=(6, n * 6), facecolor=\"black\")\n",
    "\n",
    "for ax, k in zip(axes, clusters):\n",
    "    m = (labels == k).to_numpy()\n",
    "\n",
    "    ax.set_facecolor(\"black\")\n",
    "    ax.axis(\"off\")\n",
    "    ax.set_aspect(\"equal\")\n",
    "\n",
    "    # all other cells in gray (draw first)\n",
    "    ax.scatter(x[~m], y[~m], s=pt, c=\"gray\", alpha=0.35, linewidths=0)\n",
    "\n",
    "    # target cluster in magenta (on top)\n",
    "    ax.scatter(x[m], y[m], s=pt, c=\"#fe01fe\", alpha=0.95, linewidths=0)\n",
    "\n",
    "    ax.set_title(f\"Leiden {k}\", color=\"white\", fontsize=12, pad=10)\n",
    "\n",
    "plt.tight_layout()\n",
    "plt.show()\n",
    "# fig.savefig(\"./mm_4dpi_samap_leiden_spatial_magenta.png\", dpi=300,\n",
    "#             bbox_inches=\"tight\", facecolor=\"black\")\n",
    "plt.close(fig)"
   ]
  },
  {
   "cell_type": "code",
   "execution_count": null,
   "id": "9e592a32-6b61-4343-8206-ee0e6c59423b",
   "metadata": {},
   "outputs": [],
   "source": [
    "# get mouse data from integrated samap anndata\n",
    "species_mask = adata.obs['species'] == 'hs'\n",
    "mapped_mask = ~adata.obs['x_um_dbscan'].isna()\n",
    "hs = adata[species_mask & mapped_mask].copy()"
   ]
  },
  {
   "cell_type": "code",
   "execution_count": null,
   "id": "a8d0ae13-dbc6-41f8-b3fe-7acfe7e28611",
   "metadata": {},
   "outputs": [],
   "source": [
    "# get spatial coordiantes\n",
    "x = hs.obs[\"x_um_dbscan\"].to_numpy()\n",
    "y = hs.obs[\"y_um_dbscan\"].to_numpy()\n",
    "labels = hs.obs[\"leiden_samap_0.2\"].astype(str)\n",
    "\n",
    "pt = 5\n",
    "\n",
    "# booelan masks\n",
    "masks = {\n",
    "    \"fallback\": (~labels.isin(list(colors.keys()))).to_numpy(),\n",
    "    \"1\": (labels == \"1\"),\n",
    "    \"3\": (labels == \"3\"),\n",
    "    \"0\": (labels == \"0\"),\n",
    "    \"2\": (labels == \"2\"),\n",
    "    \"4\": (labels == \"4\"),\n",
    "}\n",
    "\n",
    "fig, ax = plt.subplots(figsize=(6, 6), facecolor=\"black\")\n",
    "ax.set_facecolor(\"black\")\n",
    "ax.axis(\"off\")\n",
    "\n",
    "# plot clusters (in given order)\n",
    "if masks[\"fallback\"].any():\n",
    "    ax.scatter(x[masks[\"fallback\"]], y[masks[\"fallback\"]], s=pt, c=fallback, alpha=0.9)\n",
    "for k in [\"4\", \"1\", \"0\", \"3\", \"2\"]:\n",
    "    m = masks[k]\n",
    "    if m.any():\n",
    "        ax.scatter(x[m], y[m], s=pt, c=colors[k], alpha=0.95)\n",
    "\n",
    "plt.show()\n",
    "#fig.savefig(f\"./mm_samap_leiden_spatial_sec.png\", dpi=300, bbox_inches=\"tight\", facecolor=\"black\")\n",
    "plt.close(fig)"
   ]
  },
  {
   "cell_type": "code",
   "execution_count": null,
   "id": "4c54d158-eb12-414d-b3cd-e37e98918bb7",
   "metadata": {},
   "outputs": [],
   "source": [
    "clusters = sorted(adata.obs['leiden_samap_0.2'].unique())\n",
    "\n",
    "# figure: one square (subplot) per cluster\n",
    "n = len(clusters)\n",
    "fig, axes = plt.subplots(n, 1, figsize=(6, n * 6), facecolor=\"black\")\n",
    "\n",
    "for ax, k in zip(axes, clusters):\n",
    "    m = (labels == k).to_numpy()\n",
    "\n",
    "    ax.set_facecolor(\"black\")\n",
    "    ax.axis(\"off\")\n",
    "    ax.set_aspect(\"equal\")\n",
    "\n",
    "    # all other cells in gray (draw first)\n",
    "    ax.scatter(x[~m], y[~m], s=pt, c=\"gray\", alpha=0.35, linewidths=0)\n",
    "\n",
    "    # target cluster in magenta (on top)\n",
    "    ax.scatter(x[m], y[m], s=pt, c=\"#fe01fe\", alpha=0.95, linewidths=0)\n",
    "\n",
    "    ax.set_title(f\"Leiden {k}\", color=\"white\", fontsize=12, pad=10)\n",
    "\n",
    "plt.tight_layout()\n",
    "plt.show()\n",
    "# fig.savefig(\"./hs_mens_samap_leiden_spatial_magenta.png\", dpi=300,\n",
    "#             bbox_inches=\"tight\", facecolor=\"black\")\n",
    "plt.close(fig)"
   ]
  },
  {
   "cell_type": "code",
   "execution_count": null,
   "id": "942438db-a17c-45ef-afee-525c14655267",
   "metadata": {},
   "outputs": [],
   "source": []
  }
 ],
 "metadata": {
  "kernelspec": {
   "display_name": "Python [conda env:.conda-cuda11.8_env]",
   "language": "python",
   "name": "conda-env-.conda-cuda11.8_env-py"
  },
  "language_info": {
   "codemirror_mode": {
    "name": "ipython",
    "version": 3
   },
   "file_extension": ".py",
   "mimetype": "text/x-python",
   "name": "python",
   "nbconvert_exporter": "python",
   "pygments_lexer": "ipython3",
   "version": "3.10.13"
  }
 },
 "nbformat": 4,
 "nbformat_minor": 5
}
