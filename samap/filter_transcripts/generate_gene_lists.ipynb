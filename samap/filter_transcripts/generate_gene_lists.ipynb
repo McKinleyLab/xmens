{
 "cells": [
  {
   "cell_type": "code",
   "execution_count": 4,
   "id": "ac9d90ff-723b-4667-9439-98f62ba0f4f8",
   "metadata": {},
   "outputs": [],
   "source": [
    "import scanpy as sc\n",
    "import numpy as np\n",
    "import pyranges as pr\n",
    "import pandas as pd"
   ]
  },
  {
   "cell_type": "code",
   "execution_count": 5,
   "id": "ec604888-d527-42fa-938d-4184dbbcbe63",
   "metadata": {},
   "outputs": [],
   "source": [
    "def extract_canonical_transcripts(gtf_df):\n",
    "    \"\"\"\n",
    "    Extracts unique canonical transcripts from a GTF DataFrame.\n",
    "    \n",
    "    Parameters:\n",
    "        gtf_df (pd.DataFrame): DataFrame containing GTF file data.\n",
    "        \n",
    "    Returns:\n",
    "        pd.DataFrame: A DataFrame with unique canonical gene-transcript pairs.\n",
    "    \"\"\"\n",
    "    print(\"Starting extraction of canonical transcripts...\")\n",
    "    \n",
    "    # filter for canonical entries\n",
    "    canonical_df = gtf_df[gtf_df['tag'] == 'Ensembl_canonical']\n",
    "    print(f\"Filtered for canonical entries. Remaining rows: {len(canonical_df)}\")\n",
    "    \n",
    "    # extract unique gene-transcript pairs\n",
    "    canonical_transcripts = canonical_df[['gene_id', 'transcript_id', 'tag']].drop_duplicates()\n",
    "    print(f\"Removed duplicate gene-transcript pairs. Unique pairs: {len(canonical_transcripts)}\")\n",
    "    \n",
    "    # count unique transcripts per gene\n",
    "    transcript_counts = canonical_transcripts.groupby('gene_id')['transcript_id'].nunique()\n",
    "    print(f\"Counted unique transcripts per gene. Total unique genes: {len(transcript_counts)}\")\n",
    "    \n",
    "    # check if all genes have exactly one unique transcript\n",
    "    if len(transcript_counts.unique()) > 1:\n",
    "        print(\"Canonical transcripts are not unique! Some genes have more than one transcript.\")\n",
    "    else:\n",
    "        print(\"All genes have exactly one unique canonical transcript.\")\n",
    "    \n",
    "    print(\"Finished extracting canonical transcripts.\")\n",
    "    return canonical_transcripts[['gene_id', 'transcript_id']]"
   ]
  },
  {
   "cell_type": "code",
   "execution_count": 6,
   "id": "cf9e3d79-1c41-41ac-bb0d-e00f0fbd1f24",
   "metadata": {},
   "outputs": [
    {
     "name": "stdout",
     "output_type": "stream",
     "text": [
      "Starting extraction of canonical transcripts...\n",
      "Filtered for canonical entries. Remaining rows: 718126\n",
      "Removed duplicate gene-transcript pairs. Unique pairs: 78932\n",
      "Counted unique transcripts per gene. Total unique genes: 78932\n",
      "All genes have exactly one unique canonical transcript.\n",
      "Finished extracting canonical transcripts.\n"
     ]
    }
   ],
   "source": [
    "hs_gtf_path = './Homo_sapiens.GRCh38.113.gtf'\n",
    "hs_gtf_df = pr.read_gtf(hs_gtf_path).df\n",
    "hs_canonical_transcripts = extract_canonical_transcripts(hs_gtf_df)"
   ]
  },
  {
   "cell_type": "code",
   "execution_count": 7,
   "id": "3620f7da-171e-4497-a94f-2ec239c07b13",
   "metadata": {},
   "outputs": [
    {
     "name": "stdout",
     "output_type": "stream",
     "text": [
      "Starting extraction of canonical transcripts...\n",
      "Filtered for canonical entries. Remaining rows: 705235\n",
      "Removed duplicate gene-transcript pairs. Unique pairs: 78298\n",
      "Counted unique transcripts per gene. Total unique genes: 78298\n",
      "All genes have exactly one unique canonical transcript.\n",
      "Finished extracting canonical transcripts.\n"
     ]
    }
   ],
   "source": [
    "mm_gtf_path = './Mus_musculus.GRCm39.113.gtf'\n",
    "mm_gtf_df = pr.read_gtf(mm_gtf_path).df\n",
    "mm_canonical_transcripts = extract_canonical_transcripts(mm_gtf_df)"
   ]
  },
  {
   "cell_type": "markdown",
   "id": "7dfb8e68-b3ea-40d8-b022-b643027c0fef",
   "metadata": {},
   "source": [
    "## add canonical transcripts to anndata objects in preparation for SAMap"
   ]
  },
  {
   "cell_type": "code",
   "execution_count": null,
   "id": "0d476ca8-de6f-4135-a7f0-ab0d084d4d1b",
   "metadata": {},
   "outputs": [],
   "source": [
    "def update_var_metadata(adata, canonical_transcripts):\n",
    "    \"\"\"\n",
    "    Updates .var metadata by renaming columns, adding 'gene_name', and mapping 'canonical_transcript_id'.\n",
    "\n",
    "    Parameters:\n",
    "        adata (AnnData): The AnnData object to update.\n",
    "        canonical_transcripts (pd.DataFrame): DataFrame with 'gene_id' and 'transcript_id' columns.\n",
    "\n",
    "    Returns:\n",
    "        AnnData: Updated AnnData object with added metadata.\n",
    "    \"\"\"\n",
    "    # rename 'gene_ids' to 'gene_id' if necessary\n",
    "    if 'gene_ids' in adata.var.columns:\n",
    "        print(\"Renaming 'gene_ids' to 'gene_id'.\")\n",
    "        adata.var = adata.var.rename(columns={'gene_ids': 'gene_id'})\n",
    "\n",
    "    # add 'gene_name' column from the index\n",
    "    print(\"Adding 'gene_name' column from the index.\")\n",
    "    adata.var['gene_name'] = adata.var.index\n",
    "\n",
    "    # map 'canonical_transcript_id' from canonical_transcripts\n",
    "    print(\"Adding 'canonical_transcript_id' column.\")\n",
    "    canonical_map = canonical_transcripts.set_index('gene_id')['transcript_id']\n",
    "    adata.var['canonical_transcript_id'] = adata.var['gene_id'].map(canonical_map)\n",
    "\n",
    "    return adata\n",
    "\n",
    "def reorder_var_columns(adata, desired_order):\n",
    "    \"\"\"\n",
    "    Reorders the columns in .var according to the specified order and optionally removes 'original_names'.\n",
    "\n",
    "    Parameters:\n",
    "        adata (AnnData): The AnnData object to reorder.\n",
    "        desired_order (list): The desired order of columns in .var.\n",
    "\n",
    "    Returns:\n",
    "        AnnData: AnnData object with reordered .var columns.\n",
    "    \"\"\"\n",
    "    print(\"Reordering .var columns.\")\n",
    "    adata.var = adata.var[desired_order]\n",
    "    \n",
    "    # check if 'original_names' exists and drop it\n",
    "    if 'original_names' in adata.var.columns:\n",
    "        print(\"Dropping 'original_names' column from .var.\")\n",
    "        adata.var = adata.var.drop(columns=['original_names'])\n",
    "    else:\n",
    "        print(\"'original_names' column not found. Skipping drop.\")\n",
    "    \n",
    "    return adata\n",
    "\n",
    "desired_order = [\n",
    "    'gene_name', 'gene_id', 'canonical_transcript_id', 'feature_types', 'genome', \n",
    "    'original_names', 'is_duplicated', 'mt', 'ribo', 'hb', \n",
    "    'n_cells_by_counts', 'mean_counts', 'log1p_mean_counts', \n",
    "    'pct_dropout_by_counts', 'total_counts', 'log1p_total_counts'\n",
    "]\n"
   ]
  },
  {
   "cell_type": "code",
   "execution_count": null,
   "id": "d16c1178-aeef-4db7-a0ca-ee789221db11",
   "metadata": {},
   "outputs": [
    {
     "name": "stdout",
     "output_type": "stream",
     "text": [
      "AnnData object with n_obs × n_vars = 8162 × 32285\n",
      "    obs: 'cell_barcode', 'cellbender_filtered', 'cellranger_filtered', 'sample', 'mck', 'mck_full', 'species', 'line', 'zeitgeber_time', 'day_pseudopregancy', 'n_counts', 'x_um', 'y_um', 'x_um_dbscan', 'y_um_dbscan', 'pct.intronic', 'n_genes_by_counts', 'log1p_n_genes_by_counts', 'total_counts', 'log1p_total_counts', 'pct_counts_in_top_20_genes', 'total_counts_mt', 'log1p_total_counts_mt', 'pct_counts_mt', 'total_counts_ribo', 'log1p_total_counts_ribo', 'pct_counts_ribo', 'total_counts_hb', 'log1p_total_counts_hb', 'pct_counts_hb'\n",
      "    var: 'gene_ids', 'feature_types', 'genome', 'original_names', 'is_duplicated', 'mt', 'ribo', 'hb', 'n_cells_by_counts', 'mean_counts', 'log1p_mean_counts', 'pct_dropout_by_counts', 'total_counts', 'log1p_total_counts'\n"
     ]
    }
   ],
   "source": [
    "mm_h5ad_path = '20251008_Cevrim_XMens_Only_Fib_Dec_Cells.h5ad'\n",
    "mm = sc.read_h5ad(mm_h5ad_path)\n",
    "print(mm)"
   ]
  },
  {
   "cell_type": "code",
   "execution_count": null,
   "id": "597abcbb-982c-4b40-a7de-33174fbcd958",
   "metadata": {},
   "outputs": [
    {
     "name": "stdout",
     "output_type": "stream",
     "text": [
      "AnnData object with n_obs × n_vars = 10451 × 36601\n",
      "    obs: 'cell_barcode', 'cellbender_filtered', 'cellranger_filtered', 'sample', 'mck', 'mck_full', 'species', 'line', 'n_counts', 'x_um', 'y_um', 'x_um_dbscan', 'y_um_dbscan', 'pct.intronic', 'n_genes_by_counts', 'log1p_n_genes_by_counts', 'total_counts', 'log1p_total_counts', 'pct_counts_in_top_20_genes', 'total_counts_mt', 'log1p_total_counts_mt', 'pct_counts_mt', 'total_counts_ribo', 'log1p_total_counts_ribo', 'pct_counts_ribo', 'total_counts_hb', 'log1p_total_counts_hb', 'pct_counts_hb'\n",
      "    var: 'gene_ids', 'feature_types', 'genome', 'original_names', 'is_duplicated', 'mt', 'ribo', 'hb', 'n_cells_by_counts', 'mean_counts', 'log1p_mean_counts', 'pct_dropout_by_counts', 'total_counts', 'log1p_total_counts'\n"
     ]
    }
   ],
   "source": [
    "hs_h5ad_path = '20251008_Cevrim_Human_Only_Fib_Dec_Cells.h5ad'\n",
    "hs = sc.read_h5ad(hs_h5ad_path)\n",
    "print(hs)"
   ]
  },
  {
   "cell_type": "code",
   "execution_count": null,
   "id": "96d5d58a-2ed6-46ec-b55e-61510081adf8",
   "metadata": {},
   "outputs": [
    {
     "name": "stdout",
     "output_type": "stream",
     "text": [
      "Renaming 'gene_ids' to 'gene_id'.\n",
      "Adding 'gene_name' column from the index.\n",
      "Adding 'canonical_transcript_id' column.\n",
      "Renaming 'gene_ids' to 'gene_id'.\n",
      "Adding 'gene_name' column from the index.\n",
      "Adding 'canonical_transcript_id' column.\n"
     ]
    }
   ],
   "source": [
    "mm = update_var_metadata(mm, mm_canonical_transcripts)\n",
    "hs = update_var_metadata(hs, hs_canonical_transcripts)"
   ]
  },
  {
   "cell_type": "code",
   "execution_count": null,
   "id": "cfde9966-20c6-4e48-9be5-2ca3979cf8c0",
   "metadata": {},
   "outputs": [
    {
     "name": "stdout",
     "output_type": "stream",
     "text": [
      "Reordering .var columns.\n",
      "Dropping 'original_names' column from .var.\n",
      "Reordering .var columns.\n",
      "Dropping 'original_names' column from .var.\n"
     ]
    }
   ],
   "source": [
    "mm = reorder_var_columns(mm, desired_order)\n",
    "hs = reorder_var_columns(hs, desired_order)"
   ]
  },
  {
   "cell_type": "code",
   "execution_count": 22,
   "id": "37e2759e-0f38-4ce8-b2c4-d22c17dcacd0",
   "metadata": {},
   "outputs": [],
   "source": [
    "mm_gene_df = mm.var[['gene_name','gene_id','canonical_transcript_id']]"
   ]
  },
  {
   "cell_type": "code",
   "execution_count": 23,
   "id": "670a54d5-f857-4b81-9a0c-ab68f3f89edd",
   "metadata": {},
   "outputs": [],
   "source": [
    "hs_gene_df = hs.var[['gene_name','gene_id','canonical_transcript_id']]"
   ]
  },
  {
   "cell_type": "code",
   "execution_count": 25,
   "id": "881569d2-c059-4c07-ab6c-cdc3a972f884",
   "metadata": {},
   "outputs": [],
   "source": [
    "mm_gene_df.to_csv('./gene_transcript_csvs/mm_gene_names.csv', index=False)"
   ]
  },
  {
   "cell_type": "code",
   "execution_count": 33,
   "id": "2bf594d6-5c2f-445d-83f1-48bc22e955e2",
   "metadata": {},
   "outputs": [
    {
     "data": {
      "text/html": [
       "<div>\n",
       "<style scoped>\n",
       "    .dataframe tbody tr th:only-of-type {\n",
       "        vertical-align: middle;\n",
       "    }\n",
       "\n",
       "    .dataframe tbody tr th {\n",
       "        vertical-align: top;\n",
       "    }\n",
       "\n",
       "    .dataframe thead th {\n",
       "        text-align: right;\n",
       "    }\n",
       "</style>\n",
       "<table border=\"1\" class=\"dataframe\">\n",
       "  <thead>\n",
       "    <tr style=\"text-align: right;\">\n",
       "      <th></th>\n",
       "      <th>gene_name</th>\n",
       "      <th>gene_id</th>\n",
       "      <th>canonical_transcript_id</th>\n",
       "    </tr>\n",
       "  </thead>\n",
       "  <tbody>\n",
       "    <tr>\n",
       "      <th>0</th>\n",
       "      <td>Xkr4</td>\n",
       "      <td>ENSMUSG00000051951</td>\n",
       "      <td>ENSMUST00000070533</td>\n",
       "    </tr>\n",
       "    <tr>\n",
       "      <th>1</th>\n",
       "      <td>Gm1992</td>\n",
       "      <td>ENSMUSG00000089699</td>\n",
       "      <td>ENSMUST00000161581</td>\n",
       "    </tr>\n",
       "    <tr>\n",
       "      <th>2</th>\n",
       "      <td>Gm19938</td>\n",
       "      <td>ENSMUSG00000102331</td>\n",
       "      <td>ENSMUST00000192692</td>\n",
       "    </tr>\n",
       "    <tr>\n",
       "      <th>3</th>\n",
       "      <td>Gm37381</td>\n",
       "      <td>ENSMUSG00000102343</td>\n",
       "      <td>ENSMUST00000192427</td>\n",
       "    </tr>\n",
       "    <tr>\n",
       "      <th>4</th>\n",
       "      <td>Rp1</td>\n",
       "      <td>ENSMUSG00000025900</td>\n",
       "      <td>ENSMUST00000027032</td>\n",
       "    </tr>\n",
       "    <tr>\n",
       "      <th>...</th>\n",
       "      <td>...</td>\n",
       "      <td>...</td>\n",
       "      <td>...</td>\n",
       "    </tr>\n",
       "    <tr>\n",
       "      <th>32280</th>\n",
       "      <td>AC124606.1</td>\n",
       "      <td>ENSMUSG00000095523</td>\n",
       "      <td>ENSMUST00000180303</td>\n",
       "    </tr>\n",
       "    <tr>\n",
       "      <th>32281</th>\n",
       "      <td>AC133095.2</td>\n",
       "      <td>ENSMUSG00000095475</td>\n",
       "      <td>ENSMUST00000180208</td>\n",
       "    </tr>\n",
       "    <tr>\n",
       "      <th>32282</th>\n",
       "      <td>AC133095.1</td>\n",
       "      <td>ENSMUSG00000094855</td>\n",
       "      <td>ENSMUST00000178327</td>\n",
       "    </tr>\n",
       "    <tr>\n",
       "      <th>32283</th>\n",
       "      <td>AC234645.1</td>\n",
       "      <td>ENSMUSG00000095019</td>\n",
       "      <td>ENSMUST00000178569</td>\n",
       "    </tr>\n",
       "    <tr>\n",
       "      <th>32284</th>\n",
       "      <td>AC149090.1</td>\n",
       "      <td>ENSMUSG00000095041</td>\n",
       "      <td>ENSMUST00000178343</td>\n",
       "    </tr>\n",
       "  </tbody>\n",
       "</table>\n",
       "<p>32285 rows × 3 columns</p>\n",
       "</div>"
      ],
      "text/plain": [
       "        gene_name             gene_id canonical_transcript_id\n",
       "0            Xkr4  ENSMUSG00000051951      ENSMUST00000070533\n",
       "1          Gm1992  ENSMUSG00000089699      ENSMUST00000161581\n",
       "2         Gm19938  ENSMUSG00000102331      ENSMUST00000192692\n",
       "3         Gm37381  ENSMUSG00000102343      ENSMUST00000192427\n",
       "4             Rp1  ENSMUSG00000025900      ENSMUST00000027032\n",
       "...           ...                 ...                     ...\n",
       "32280  AC124606.1  ENSMUSG00000095523      ENSMUST00000180303\n",
       "32281  AC133095.2  ENSMUSG00000095475      ENSMUST00000180208\n",
       "32282  AC133095.1  ENSMUSG00000094855      ENSMUST00000178327\n",
       "32283  AC234645.1  ENSMUSG00000095019      ENSMUST00000178569\n",
       "32284  AC149090.1  ENSMUSG00000095041      ENSMUST00000178343\n",
       "\n",
       "[32285 rows x 3 columns]"
      ]
     },
     "execution_count": 33,
     "metadata": {},
     "output_type": "execute_result"
    }
   ],
   "source": [
    "mm_gene_df"
   ]
  },
  {
   "cell_type": "code",
   "execution_count": 26,
   "id": "f1b6ada5-f657-4e4b-8fe7-1d8925af66c9",
   "metadata": {},
   "outputs": [],
   "source": [
    "hs_gene_df.to_csv('./gene_transcript_csvs/hs_gene_names.csv', index=False)"
   ]
  }
 ],
 "metadata": {
  "kernelspec": {
   "display_name": "Python [conda env:.conda-cuda11.8_env]",
   "language": "python",
   "name": "conda-env-.conda-cuda11.8_env-py"
  },
  "language_info": {
   "codemirror_mode": {
    "name": "ipython",
    "version": 3
   },
   "file_extension": ".py",
   "mimetype": "text/x-python",
   "name": "python",
   "nbconvert_exporter": "python",
   "pygments_lexer": "ipython3",
   "version": "3.10.13"
  }
 },
 "nbformat": 4,
 "nbformat_minor": 5
}
