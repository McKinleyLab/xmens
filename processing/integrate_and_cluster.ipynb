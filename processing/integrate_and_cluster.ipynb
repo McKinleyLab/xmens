{
 "cells": [
  {
   "cell_type": "code",
   "execution_count": null,
   "id": "4273693b-8058-42ac-875f-5c40b5bed820",
   "metadata": {},
   "outputs": [],
   "source": [
    "import scanpy as sc\n",
    "import anndata as ad\n",
    "import scvi\n",
    "import pandas as pd\n",
    "import numpy as np\n",
    "import time\n",
    "\n",
    "SEED = 0"
   ]
  },
  {
   "cell_type": "code",
   "execution_count": null,
   "id": "c835db58-af6e-4eba-bb74-5ed545500222",
   "metadata": {},
   "outputs": [],
   "source": [
    "adata = sc.read_h5ad('/n/eddy_lab/Lab/mckinley/data/2025_04_15_AmhrGsD_Final.h5ad')"
   ]
  },
  {
   "cell_type": "code",
   "execution_count": null,
   "id": "74b417ca-2086-45d8-a47b-8918e0c51908",
   "metadata": {},
   "outputs": [],
   "source": [
    "# identify and label mitochondrial genes\n",
    "print(\"Identifying mitochondrial genes...\")\n",
    "mitos = np.array(adata.var[adata.var.index.str.startswith(('mt-', 'Mt-', 'MT-'))].index)\n",
    "adata.var['mito'] = adata.var.index.isin(mitos)\n",
    "mito_count = adata.var['mito'].sum()\n",
    "print(f\"  Found {mito_count} mitochondrial genes.\")\n",
    "\n",
    "# identify and label ribosomal genes\n",
    "print(\"Identifying ribosomal genes...\")\n",
    "ribos = np.array(adata.var[adata.var.index.str.startswith(\n",
    "    ('rps', 'rpl', 'mrps', 'mrpl', \n",
    "     'Rps', 'Rpl', 'Mrps', 'Mrpl',\n",
    "     'RPS', 'RPL', 'MRPLS', 'MRPL'))].index)\n",
    "adata.var['ribo'] = adata.var.index.isin(ribos)\n",
    "ribo_count = adata.var['ribo'].sum()\n",
    "print(f\"  Found {ribo_count} ribosomal genes.\")\n",
    "\n",
    "# filter out mitochondrial and ribosomal genes for HVG selection\n",
    "print(\"Filtering out mitochondrial and ribosomal genes for HVG selection...\")\n",
    "adata_hvg = adata[:, (~adata.var['mito']) & (~adata.var['ribo'])].copy()\n",
    "print(f\"  Retained {adata_hvg.shape[0]} cells and {adata_hvg.shape[1]} genes for HVG selection.\")"
   ]
  },
  {
   "cell_type": "code",
   "execution_count": null,
   "id": "59833a11-3df0-4b5c-848c-76739820a858",
   "metadata": {},
   "outputs": [],
   "source": [
    "# perform highly-variable gene selection (not using sample batch information at the subobject level).\n",
    "print(\"Performing highly-variable gene selection (flavor='seurat_v3') on the aggregate data...\")\n",
    "sc.pp.highly_variable_genes(\n",
    "    adata_hvg,\n",
    "    flavor='seurat_v3',\n",
    "    layer='raw',\n",
    "    batch_key='sample',    \n",
    "    n_top_genes=3000,\n",
    "    subset=True\n",
    ")\n",
    "\n",
    "hvg_count = adata_hvg.var['highly_variable'].sum()\n",
    "print(f\"  Selected {int(hvg_count)} highly variable genes.\")\n",
    "\n",
    "# map HVG information back to the full adata object\n",
    "print(\"Mapping HVG selection results back to the full dataset...\")\n",
    "adata.uns['hvg'] = adata_hvg.uns['hvg'].copy()\n",
    "adata.var['highly_variable'] = adata.var.index.isin(\n",
    "    list(adata_hvg.var[adata_hvg.var['highly_variable']].index)\n",
    ")\n",
    "adata.var['highly_variable_rank'] = adata.var.index.map(\n",
    "    dict(zip(adata_hvg.var.index, adata_hvg.var['highly_variable_rank']))\n",
    ")\n",
    "adata.var['highly_variable_nbatches'] = adata.var.index.map(\n",
    "    dict(zip(adata_hvg.var.index, adata_hvg.var['highly_variable_nbatches']))\n",
    ")"
   ]
  },
  {
   "cell_type": "code",
   "execution_count": null,
   "id": "c17dc8b0-fe67-426e-a406-a76786335797",
   "metadata": {},
   "outputs": [],
   "source": [
    "# reset the main data matrix from the raw layer.\n",
    "print(\"Resetting adata.X using raw counts...\")\n",
    "adata.X = adata.layers['raw'].copy()\n",
    "\n",
    "# normalize\n",
    "print(\"Normalizing total counts to a target sum of 1e4...\")\n",
    "sc.pp.normalize_total(\n",
    "    adata,\n",
    "    target_sum=1e4,\n",
    "    exclude_highly_expressed=False,\n",
    "    inplace=True\n",
    ")\n",
    "\n",
    "# apply log1p transformation\n",
    "print(\"Applying log1p transformation...\")\n",
    "sc.pp.log1p(adata)"
   ]
  },
  {
   "cell_type": "code",
   "execution_count": null,
   "id": "8237eed8-c0d1-4682-b4c0-e9e5052b02a3",
   "metadata": {},
   "outputs": [],
   "source": [
    "# set up and train the scVI model using the HVG-filtered subset\n",
    "print(\"setting up scVI on the HVG-filtered data...\")\n",
    "scvi.model.SCVI.setup_anndata(adata_hvg, layer=\"raw\", batch_key=\"sample\")\n",
    "\n",
    "print(\"initializing and training the scVI model...\")\n",
    "model = scvi.model.SCVI(adata_hvg, n_layers=2, n_latent=30, gene_likelihood=\"nb\")\n",
    "print(\"  starting model training with early stopping...\")\n",
    "model.train(early_stopping=True)\n",
    "print(\"  scVI model training complete.\")\n",
    "\n",
    "# extract the latent representation and store it in adata.obsm.\n",
    "SCVI_LATENT_KEY = \"X_scVI\"\n",
    "print(\"Extracting latent representation from the trained model...\")\n",
    "adata.obsm[SCVI_LATENT_KEY] = model.get_latent_representation()\n",
    "print(f\"  latent representation stored in adata.obsm['{SCVI_LATENT_KEY}'].\")"
   ]
  },
  {
   "cell_type": "code",
   "execution_count": null,
   "id": "4110a3f0-f9f8-4e52-8c39-2d85297f855c",
   "metadata": {
    "tags": []
   },
   "outputs": [],
   "source": [
    "# compute neighbors and run Leiden clustering at multiple resolutions\n",
    "n_neighbors = 100\n",
    "SCVI_NEIGHBORS_KEY = f\"neighbors_scVI_{n_neighbors}\"\n",
    "print(f\"Preparing to compute neighbors using key: {SCVI_NEIGHBORS_KEY}\")\n",
    "\n",
    "resolutions = [0.1, 0.2, 0.3, 0.4, 0.5, 0.6, 0.7, 0.8, 0.9, 1.0, 1.5, 2.0, 2.5, 3.0]\n",
    "\n",
    "print(\"*****************************\")\n",
    "SCVI_NEIGHBORS_KEY = f\"neighbors_scVI_{n_neighbors}\"\n",
    "print(f\"Computing neighbors with n_neighbors = {n_neighbors} (key: {SCVI_NEIGHBORS_KEY})...\")\n",
    "\n",
    "sc.pp.neighbors(adata,\n",
    "                use_rep=SCVI_LATENT_KEY,\n",
    "                n_neighbors=n_neighbors,\n",
    "                key_added=SCVI_NEIGHBORS_KEY)\n",
    "print(\"  Neighbor graph computed.\")\n",
    "\n",
    "for res in resolutions:\n",
    "    LEIDEN_SCVI_KEY = f\"leiden_scVI_{res}\"\n",
    "    print(f\"Starting Leiden clustering at resolution {res} (neighbors key: {SCVI_NEIGHBORS_KEY})...\")\n",
    "    start_time = time.time()\n",
    "\n",
    "    sc.tl.leiden(\n",
    "        adata,   \n",
    "        resolution=res,\n",
    "        random_state=SEED,\n",
    "        flavor=\"igraph\",\n",
    "        neighbors_key=SCVI_NEIGHBORS_KEY,\n",
    "        key_added=LEIDEN_SCVI_KEY\n",
    "    )\n",
    "\n",
    "    end_time = time.time()\n",
    "    print(f\"  Leiden clustering '{LEIDEN_SCVI_KEY}' completed in {end_time - start_time:.4f} seconds.\")"
   ]
  },
  {
   "cell_type": "code",
   "execution_count": null,
   "id": "5ea74555-44d7-48a6-a407-156866101a31",
   "metadata": {},
   "outputs": [],
   "source": [
    "print(\"Computing UMAP using the neighbor graph from scVI...\")\n",
    "sc.tl.umap(adata, neighbors_key=SCVI_NEIGHBORS_KEY)\n",
    "\n",
    "SCVI_UMAP_KEY = 'X_umap_scVI'\n",
    "adata.obsm[SCVI_UMAP_KEY] = adata.obsm['X_umap'].copy()\n",
    "del adata.obsm['X_umap']\n",
    "print(f\"  UMAP stored under key '{SCVI_UMAP_KEY}'.\\n\")"
   ]
  },
  {
   "cell_type": "code",
   "execution_count": null,
   "id": "60740e65-f21d-4c85-9c62-8aa571d062d5",
   "metadata": {},
   "outputs": [],
   "source": [
    "sc.pl.embedding(adata, basis = 'X_umap_scVI', color = 'leiden_scVI_0.1')"
   ]
  },
  {
   "cell_type": "code",
   "execution_count": null,
   "id": "ed09bd83-b5c7-478b-9387-b4d730921446",
   "metadata": {},
   "outputs": [],
   "source": [
    "adata.write_h5ad('/n/eddy_lab/Lab/mckinley/data/2025_04_15_AmhrGsD_Final_scVI.h5ad')"
   ]
  }
 ],
 "metadata": {
  "kernelspec": {
   "display_name": "Python [conda env:.conda-cuda11.8_env]",
   "language": "python",
   "name": "conda-env-.conda-cuda11.8_env-py"
  },
  "language_info": {
   "codemirror_mode": {
    "name": "ipython",
    "version": 3
   },
   "file_extension": ".py",
   "mimetype": "text/x-python",
   "name": "python",
   "nbconvert_exporter": "python",
   "pygments_lexer": "ipython3",
   "version": "3.10.13"
  }
 },
 "nbformat": 4,
 "nbformat_minor": 5
}
